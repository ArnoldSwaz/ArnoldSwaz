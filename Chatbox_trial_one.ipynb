{
  "nbformat": 4,
  "nbformat_minor": 0,
  "metadata": {
    "colab": {
      "provenance": [],
      "authorship_tag": "ABX9TyMg8esVD/n+NZbGIWvmNbyO",
      "include_colab_link": true
    },
    "kernelspec": {
      "name": "python3",
      "display_name": "Python 3"
    },
    "language_info": {
      "name": "python"
    }
  },
  "cells": [
    {
      "cell_type": "markdown",
      "metadata": {
        "id": "view-in-github",
        "colab_type": "text"
      },
      "source": [
        "<a href=\"https://colab.research.google.com/github/ArnoldSwaz/ArnoldSwaz/blob/main/Chatbox_trial_one.ipynb\" target=\"_parent\"><img src=\"https://colab.research.google.com/assets/colab-badge.svg\" alt=\"Open In Colab\"/></a>"
      ]
    },
    {
      "cell_type": "code",
      "execution_count": 6,
      "metadata": {
        "id": "88puVzEdIR1R",
        "outputId": "d9553ffe-5545-4dc3-827f-bdcba54b16cc",
        "colab": {
          "base_uri": "https://localhost:8080/"
        }
      },
      "outputs": [
        {
          "output_type": "stream",
          "name": "stdout",
          "text": [
            "Hello, I am Marvin the simple robot. You can end this conversation at any time by typing 'bye'. After typing each answer, press 'enter'\n"
          ]
        }
      ],
      "source": [
        "#enter name\n",
        "\n",
        "def greet(name):\n",
        "    print(\"Hello, I am Marvin the simple robot. You can end this conversation at any time by typing 'bye'. After typing each answer, press 'enter'\")\n",
        "\n",
        "greet('Arnold')\n",
        "\n",
        ""
      ]
    },
    {
      "cell_type": "code",
      "source": [],
      "metadata": {
        "id": "jdUnvH017_bj"
      },
      "execution_count": null,
      "outputs": []
    },
    {
      "cell_type": "code",
      "source": [
        "print(\"hello world\")"
      ],
      "metadata": {
        "id": "QcqJWz6SLZ7N",
        "outputId": "91833056-8493-43ab-c77f-055b88fd0ebe",
        "colab": {
          "base_uri": "https://localhost:8080/"
        }
      },
      "execution_count": 2,
      "outputs": [
        {
          "output_type": "stream",
          "name": "stdout",
          "text": [
            "hello world\n"
          ]
        }
      ]
    }
  ]
}